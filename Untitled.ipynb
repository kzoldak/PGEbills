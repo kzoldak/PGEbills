{
 "cells": [
  {
   "cell_type": "code",
   "execution_count": 2,
   "metadata": {},
   "outputs": [],
   "source": [
    "import numpy as np\n",
    "import pandas as pd"
   ]
  },
  {
   "cell_type": "raw",
   "metadata": {},
   "source": [
    "Bill Cycles: \n",
    "\n",
    "dates, kWh, cost, weather averages \n",
    "1. Oct 5 - Nov 5   359 kWh  $54.76     60/88/46\n",
    "2. Nov 6 - Dec 5  1024 kWh  $181.17    48/63/36\n",
    "3. Dec 6 - Jan 6   972 kWh  $167.49    45/55/32\n",
    "4. Jan 7 - Feb 5   586 kWh  $87.62     50/61/37"
   ]
  },
  {
   "cell_type": "code",
   "execution_count": 25,
   "metadata": {},
   "outputs": [],
   "source": [
    "filename = 'data/pge_electric_interval_data__2018-10-04_to_2019-02-11.csv'\n",
    "\n",
    "pge = pd.read_csv(filename, skiprows=5)"
   ]
  },
  {
   "cell_type": "code",
   "execution_count": 19,
   "metadata": {},
   "outputs": [],
   "source": [
    "filename = 'data/weatherdata.csv'"
   ]
  },
  {
   "cell_type": "code",
   "execution_count": 20,
   "metadata": {},
   "outputs": [],
   "source": [
    "weather = pd.read_csv(filename)"
   ]
  },
  {
   "cell_type": "code",
   "execution_count": 24,
   "metadata": {},
   "outputs": [
    {
     "data": {
      "text/plain": [
       "'/Users/kimzoldak/Python/PGEbills'"
      ]
     },
     "execution_count": 24,
     "metadata": {},
     "output_type": "execute_result"
    }
   ],
   "source": [
    "pwd"
   ]
  },
  {
   "cell_type": "code",
   "execution_count": 26,
   "metadata": {
    "scrolled": true
   },
   "outputs": [
    {
     "data": {
      "text/html": [
       "<div>\n",
       "<style scoped>\n",
       "    .dataframe tbody tr th:only-of-type {\n",
       "        vertical-align: middle;\n",
       "    }\n",
       "\n",
       "    .dataframe tbody tr th {\n",
       "        vertical-align: top;\n",
       "    }\n",
       "\n",
       "    .dataframe thead th {\n",
       "        text-align: right;\n",
       "    }\n",
       "</style>\n",
       "<table border=\"1\" class=\"dataframe\">\n",
       "  <thead>\n",
       "    <tr style=\"text-align: right;\">\n",
       "      <th></th>\n",
       "      <th>TYPE</th>\n",
       "      <th>DATE</th>\n",
       "      <th>START TIME</th>\n",
       "      <th>END TIME</th>\n",
       "      <th>USAGE</th>\n",
       "      <th>UNITS</th>\n",
       "      <th>COST</th>\n",
       "      <th>NOTES</th>\n",
       "    </tr>\n",
       "  </thead>\n",
       "  <tbody>\n",
       "    <tr>\n",
       "      <th>0</th>\n",
       "      <td>Electric usage</td>\n",
       "      <td>2018-10-04</td>\n",
       "      <td>00:00</td>\n",
       "      <td>00:59</td>\n",
       "      <td>0.24</td>\n",
       "      <td>kWh</td>\n",
       "      <td>$0.05</td>\n",
       "      <td>NaN</td>\n",
       "    </tr>\n",
       "    <tr>\n",
       "      <th>1</th>\n",
       "      <td>Electric usage</td>\n",
       "      <td>2018-10-04</td>\n",
       "      <td>01:00</td>\n",
       "      <td>01:59</td>\n",
       "      <td>0.17</td>\n",
       "      <td>kWh</td>\n",
       "      <td>$0.04</td>\n",
       "      <td>NaN</td>\n",
       "    </tr>\n",
       "    <tr>\n",
       "      <th>2</th>\n",
       "      <td>Electric usage</td>\n",
       "      <td>2018-10-04</td>\n",
       "      <td>02:00</td>\n",
       "      <td>02:59</td>\n",
       "      <td>0.17</td>\n",
       "      <td>kWh</td>\n",
       "      <td>$0.04</td>\n",
       "      <td>NaN</td>\n",
       "    </tr>\n",
       "    <tr>\n",
       "      <th>3</th>\n",
       "      <td>Electric usage</td>\n",
       "      <td>2018-10-04</td>\n",
       "      <td>03:00</td>\n",
       "      <td>03:59</td>\n",
       "      <td>0.16</td>\n",
       "      <td>kWh</td>\n",
       "      <td>$0.04</td>\n",
       "      <td>NaN</td>\n",
       "    </tr>\n",
       "    <tr>\n",
       "      <th>4</th>\n",
       "      <td>Electric usage</td>\n",
       "      <td>2018-10-04</td>\n",
       "      <td>04:00</td>\n",
       "      <td>04:59</td>\n",
       "      <td>0.16</td>\n",
       "      <td>kWh</td>\n",
       "      <td>$0.03</td>\n",
       "      <td>NaN</td>\n",
       "    </tr>\n",
       "  </tbody>\n",
       "</table>\n",
       "</div>"
      ],
      "text/plain": [
       "             TYPE        DATE START TIME END TIME  USAGE UNITS   COST  NOTES\n",
       "0  Electric usage  2018-10-04      00:00    00:59   0.24   kWh  $0.05    NaN\n",
       "1  Electric usage  2018-10-04      01:00    01:59   0.17   kWh  $0.04    NaN\n",
       "2  Electric usage  2018-10-04      02:00    02:59   0.17   kWh  $0.04    NaN\n",
       "3  Electric usage  2018-10-04      03:00    03:59   0.16   kWh  $0.04    NaN\n",
       "4  Electric usage  2018-10-04      04:00    04:59   0.16   kWh  $0.03    NaN"
      ]
     },
     "execution_count": 26,
     "metadata": {},
     "output_type": "execute_result"
    }
   ],
   "source": [
    "pge.head()"
   ]
  },
  {
   "cell_type": "code",
   "execution_count": 23,
   "metadata": {},
   "outputs": [
    {
     "data": {
      "text/html": [
       "<div>\n",
       "<style scoped>\n",
       "    .dataframe tbody tr th:only-of-type {\n",
       "        vertical-align: middle;\n",
       "    }\n",
       "\n",
       "    .dataframe tbody tr th {\n",
       "        vertical-align: top;\n",
       "    }\n",
       "\n",
       "    .dataframe thead th {\n",
       "        text-align: right;\n",
       "    }\n",
       "</style>\n",
       "<table border=\"1\" class=\"dataframe\">\n",
       "  <thead>\n",
       "    <tr style=\"text-align: right;\">\n",
       "      <th></th>\n",
       "      <th>STATION</th>\n",
       "      <th>NAME</th>\n",
       "      <th>LATITUDE</th>\n",
       "      <th>LONGITUDE</th>\n",
       "      <th>ELEVATION</th>\n",
       "      <th>DATE</th>\n",
       "      <th>PRCP</th>\n",
       "      <th>PRCP_ATTRIBUTES</th>\n",
       "      <th>SNOW</th>\n",
       "      <th>SNOW_ATTRIBUTES</th>\n",
       "      <th>TAVG</th>\n",
       "      <th>TAVG_ATTRIBUTES</th>\n",
       "      <th>TMAX</th>\n",
       "      <th>TMAX_ATTRIBUTES</th>\n",
       "      <th>TMIN</th>\n",
       "      <th>TMIN_ATTRIBUTES</th>\n",
       "    </tr>\n",
       "  </thead>\n",
       "  <tbody>\n",
       "    <tr>\n",
       "      <th>0</th>\n",
       "      <td>US1CACC0006</td>\n",
       "      <td>LAFAYETTE 0.7 E, CA US</td>\n",
       "      <td>37.8937</td>\n",
       "      <td>-122.1043</td>\n",
       "      <td>75.6</td>\n",
       "      <td>2018-11-22</td>\n",
       "      <td>1.05</td>\n",
       "      <td>,,N</td>\n",
       "      <td>NaN</td>\n",
       "      <td>NaN</td>\n",
       "      <td>NaN</td>\n",
       "      <td>NaN</td>\n",
       "      <td>NaN</td>\n",
       "      <td>NaN</td>\n",
       "      <td>NaN</td>\n",
       "      <td>NaN</td>\n",
       "    </tr>\n",
       "    <tr>\n",
       "      <th>1</th>\n",
       "      <td>US1CACC0006</td>\n",
       "      <td>LAFAYETTE 0.7 E, CA US</td>\n",
       "      <td>37.8937</td>\n",
       "      <td>-122.1043</td>\n",
       "      <td>75.6</td>\n",
       "      <td>2018-11-23</td>\n",
       "      <td>0.70</td>\n",
       "      <td>,,N</td>\n",
       "      <td>NaN</td>\n",
       "      <td>NaN</td>\n",
       "      <td>NaN</td>\n",
       "      <td>NaN</td>\n",
       "      <td>NaN</td>\n",
       "      <td>NaN</td>\n",
       "      <td>NaN</td>\n",
       "      <td>NaN</td>\n",
       "    </tr>\n",
       "    <tr>\n",
       "      <th>2</th>\n",
       "      <td>US1CACC0006</td>\n",
       "      <td>LAFAYETTE 0.7 E, CA US</td>\n",
       "      <td>37.8937</td>\n",
       "      <td>-122.1043</td>\n",
       "      <td>75.6</td>\n",
       "      <td>2018-11-24</td>\n",
       "      <td>0.73</td>\n",
       "      <td>,,N</td>\n",
       "      <td>NaN</td>\n",
       "      <td>NaN</td>\n",
       "      <td>NaN</td>\n",
       "      <td>NaN</td>\n",
       "      <td>NaN</td>\n",
       "      <td>NaN</td>\n",
       "      <td>NaN</td>\n",
       "      <td>NaN</td>\n",
       "    </tr>\n",
       "    <tr>\n",
       "      <th>3</th>\n",
       "      <td>US1CACC0006</td>\n",
       "      <td>LAFAYETTE 0.7 E, CA US</td>\n",
       "      <td>37.8937</td>\n",
       "      <td>-122.1043</td>\n",
       "      <td>75.6</td>\n",
       "      <td>2018-11-28</td>\n",
       "      <td>0.16</td>\n",
       "      <td>,,N</td>\n",
       "      <td>NaN</td>\n",
       "      <td>NaN</td>\n",
       "      <td>NaN</td>\n",
       "      <td>NaN</td>\n",
       "      <td>NaN</td>\n",
       "      <td>NaN</td>\n",
       "      <td>NaN</td>\n",
       "      <td>NaN</td>\n",
       "    </tr>\n",
       "    <tr>\n",
       "      <th>4</th>\n",
       "      <td>US1CACC0006</td>\n",
       "      <td>LAFAYETTE 0.7 E, CA US</td>\n",
       "      <td>37.8937</td>\n",
       "      <td>-122.1043</td>\n",
       "      <td>75.6</td>\n",
       "      <td>2018-11-29</td>\n",
       "      <td>1.72</td>\n",
       "      <td>,,N</td>\n",
       "      <td>NaN</td>\n",
       "      <td>NaN</td>\n",
       "      <td>NaN</td>\n",
       "      <td>NaN</td>\n",
       "      <td>NaN</td>\n",
       "      <td>NaN</td>\n",
       "      <td>NaN</td>\n",
       "      <td>NaN</td>\n",
       "    </tr>\n",
       "  </tbody>\n",
       "</table>\n",
       "</div>"
      ],
      "text/plain": [
       "       STATION                    NAME  LATITUDE  LONGITUDE  ELEVATION  \\\n",
       "0  US1CACC0006  LAFAYETTE 0.7 E, CA US   37.8937  -122.1043       75.6   \n",
       "1  US1CACC0006  LAFAYETTE 0.7 E, CA US   37.8937  -122.1043       75.6   \n",
       "2  US1CACC0006  LAFAYETTE 0.7 E, CA US   37.8937  -122.1043       75.6   \n",
       "3  US1CACC0006  LAFAYETTE 0.7 E, CA US   37.8937  -122.1043       75.6   \n",
       "4  US1CACC0006  LAFAYETTE 0.7 E, CA US   37.8937  -122.1043       75.6   \n",
       "\n",
       "         DATE  PRCP PRCP_ATTRIBUTES  SNOW SNOW_ATTRIBUTES  TAVG  \\\n",
       "0  2018-11-22  1.05             ,,N   NaN             NaN   NaN   \n",
       "1  2018-11-23  0.70             ,,N   NaN             NaN   NaN   \n",
       "2  2018-11-24  0.73             ,,N   NaN             NaN   NaN   \n",
       "3  2018-11-28  0.16             ,,N   NaN             NaN   NaN   \n",
       "4  2018-11-29  1.72             ,,N   NaN             NaN   NaN   \n",
       "\n",
       "  TAVG_ATTRIBUTES  TMAX TMAX_ATTRIBUTES  TMIN TMIN_ATTRIBUTES  \n",
       "0             NaN   NaN             NaN   NaN             NaN  \n",
       "1             NaN   NaN             NaN   NaN             NaN  \n",
       "2             NaN   NaN             NaN   NaN             NaN  \n",
       "3             NaN   NaN             NaN   NaN             NaN  \n",
       "4             NaN   NaN             NaN   NaN             NaN  "
      ]
     },
     "execution_count": 23,
     "metadata": {},
     "output_type": "execute_result"
    }
   ],
   "source": [
    "weather.head()"
   ]
  },
  {
   "cell_type": "code",
   "execution_count": 10,
   "metadata": {},
   "outputs": [],
   "source": [
    "data.pivot_table?"
   ]
  },
  {
   "cell_type": "raw",
   "metadata": {},
   "source": [
    "data.pivot_table(values=None, index=None, columns=None, aggfunc='mean', \n",
    "                 fill_value=None, margins=False, dropna=True, margins_name='All')"
   ]
  },
  {
   "cell_type": "code",
   "execution_count": null,
   "metadata": {},
   "outputs": [],
   "source": [
    "data.pivot_table(values='USAGE', index"
   ]
  },
  {
   "cell_type": "raw",
   "metadata": {},
   "source": [
    "stocks.groupby('Symbol').Close.mean()"
   ]
  },
  {
   "cell_type": "code",
   "execution_count": 14,
   "metadata": {},
   "outputs": [
    {
     "data": {
      "text/plain": [
       "DATE\n",
       "2018-10-04    0.555000\n",
       "2018-10-05    0.327500\n",
       "2018-10-06    0.438333\n",
       "2018-10-07    0.425000\n",
       "2018-10-08    0.459583\n",
       "2018-10-09    0.463750\n",
       "2018-10-10    0.412917\n",
       "2018-10-11    0.385833\n",
       "2018-10-12    0.377917\n",
       "2018-10-13    0.352500\n",
       "2018-10-14    0.471250\n",
       "2018-10-15    0.316667\n",
       "2018-10-16    0.543333\n",
       "2018-10-17    0.434167\n",
       "2018-10-18    0.431667\n",
       "2018-10-19    0.564167\n",
       "2018-10-20    0.355000\n",
       "2018-10-21    0.760417\n",
       "2018-10-22    0.490000\n",
       "2018-10-23    0.566250\n",
       "2018-10-24    0.737917\n",
       "2018-10-25    0.549167\n",
       "2018-10-26    0.319167\n",
       "2018-10-27    0.478750\n",
       "2018-10-28    0.419167\n",
       "2018-10-29    0.531250\n",
       "2018-10-30    0.385417\n",
       "2018-10-31    0.823750\n",
       "2018-11-01    0.453333\n",
       "2018-11-02    0.415000\n",
       "                ...   \n",
       "2019-01-13    0.828750\n",
       "2019-01-14    0.849167\n",
       "2019-01-15    0.934167\n",
       "2019-01-16    1.018333\n",
       "2019-01-17    0.595000\n",
       "2019-01-18    0.557083\n",
       "2019-01-19    0.658750\n",
       "2019-01-20    0.689583\n",
       "2019-01-21    0.834167\n",
       "2019-01-22    0.898333\n",
       "2019-01-23    1.025000\n",
       "2019-01-24    1.140417\n",
       "2019-01-25    0.792500\n",
       "2019-01-26    0.595000\n",
       "2019-01-27    0.739167\n",
       "2019-01-28    0.826250\n",
       "2019-01-29    0.647917\n",
       "2019-01-30    0.553333\n",
       "2019-01-31    0.566667\n",
       "2019-02-01    0.702083\n",
       "2019-02-02    0.581667\n",
       "2019-02-03    0.824583\n",
       "2019-02-04    1.143333\n",
       "2019-02-05    1.595417\n",
       "2019-02-06    1.680000\n",
       "2019-02-07    1.675000\n",
       "2019-02-08    1.417083\n",
       "2019-02-09    1.440000\n",
       "2019-02-10    0.000000\n",
       "2019-02-11    0.000000\n",
       "Name: USAGE, Length: 131, dtype: float64"
      ]
     },
     "execution_count": 14,
     "metadata": {},
     "output_type": "execute_result"
    }
   ],
   "source": [
    "mean_usage_per_day = pge.groupby('DATE').USAGE.mean()\n",
    "mean_usage_per_day"
   ]
  },
  {
   "cell_type": "code",
   "execution_count": 15,
   "metadata": {},
   "outputs": [
    {
     "data": {
      "text/plain": [
       "<matplotlib.axes._subplots.AxesSubplot at 0x118306518>"
      ]
     },
     "execution_count": 15,
     "metadata": {},
     "output_type": "execute_result"
    }
   ],
   "source": [
    "mean_usage_per_day.hist()"
   ]
  },
  {
   "cell_type": "code",
   "execution_count": null,
   "metadata": {},
   "outputs": [],
   "source": []
  }
 ],
 "metadata": {
  "kernelspec": {
   "display_name": "Python 3",
   "language": "python",
   "name": "python3"
  },
  "language_info": {
   "codemirror_mode": {
    "name": "ipython",
    "version": 3
   },
   "file_extension": ".py",
   "mimetype": "text/x-python",
   "name": "python",
   "nbconvert_exporter": "python",
   "pygments_lexer": "ipython3",
   "version": "3.7.0"
  }
 },
 "nbformat": 4,
 "nbformat_minor": 2
}
